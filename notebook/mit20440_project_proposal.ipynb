{
 "cells": [
  {
   "cell_type": "markdown",
   "metadata": {},
   "source": [
    "### Load the model\n",
    "Import necessary libraries:\n",
    "- `Cobra`: for optimization, FBA and FVA on the genome-scale metabolic model.\n",
    "- `Networkx`: to generate and analyze a graph of the network.\n",
    "- `Matplotlib`: for visualization."
   ]
  },
  {
   "cell_type": "code",
   "execution_count": null,
   "metadata": {
    "cell_id": "00000-ddc4fd7b-8b84-49ca-8c7f-b589b17c55f9",
    "deepnote_cell_type": "code",
    "deepnote_to_be_reexecuted": false,
    "execution_millis": 256,
    "execution_start": 1616440366051,
    "source_hash": "b9a40f42",
    "tags": []
   },
   "outputs": [],
   "source": [
    "import cobra\n",
    "import matplotlib.pyplot as plt\n",
    "import networkx as nx\n",
    "from cobra import Reaction, Metabolite"
   ]
  },
  {
   "cell_type": "markdown",
   "metadata": {},
   "source": [
    "Load the genome-scale metabolic model of Synechocystis sp. PCC 6803:"
   ]
  },
  {
   "cell_type": "code",
   "execution_count": null,
   "metadata": {
    "cell_id": "00001-5871bc00-76c1-4abb-a7f5-c3bcf63d1e96",
    "deepnote_cell_type": "code",
    "deepnote_to_be_reexecuted": false,
    "execution_millis": 1096,
    "execution_start": 1616437456758,
    "source_hash": "1e60d28e",
    "tags": []
   },
   "outputs": [],
   "source": [
    "model = cobra.io.read_sbml_model('..\\data\\iSynCJ816.xml')"
   ]
  },
  {
   "cell_type": "markdown",
   "metadata": {},
   "source": [
    "### Set objective function"
   ]
  },
  {
   "cell_type": "markdown",
   "metadata": {
    "cell_id": "00002-e2fce384-cd96-4196-a00e-57ad6e93c26e",
    "deepnote_cell_type": "markdown",
    "tags": []
   },
   "source": [
    "Set the objective function to be optimized for the model: https://cobrapy.readthedocs.io/en/latest/constraints_objectives.html "
   ]
  },
  {
   "cell_type": "code",
   "execution_count": null,
   "metadata": {
    "cell_id": "00002-889b6f5d-f794-441e-9d66-0d905eb1aeeb",
    "deepnote_cell_type": "code",
    "deepnote_to_be_reexecuted": false,
    "execution_millis": 3,
    "execution_start": 1616437457866,
    "source_hash": "491c8038",
    "tags": []
   },
   "outputs": [],
   "source": [
    "model.objective = {model.reactions.BIOMASS_Ec_SynAuto_1: 1}"
   ]
  },
  {
   "cell_type": "code",
   "execution_count": null,
   "metadata": {
    "cell_id": "00002-e3de6dce-fb15-46b7-99c8-68ab221af7f1",
    "deepnote_cell_type": "code",
    "deepnote_to_be_reexecuted": false,
    "execution_millis": 7,
    "execution_start": 1616437457877,
    "source_hash": "fe161626",
    "tags": []
   },
   "outputs": [],
   "source": [
    "model.reactions[26]"
   ]
  },
  {
   "cell_type": "markdown",
   "metadata": {},
   "source": [
    "### Model information\n",
    "Acces some information about the model:\n",
    " - reactions\n",
    " - metabolites"
   ]
  },
  {
   "cell_type": "code",
   "execution_count": null,
   "metadata": {
    "cell_id": "00002-a4249766-2731-4350-8d18-6cc63b952076",
    "deepnote_cell_type": "code",
    "deepnote_to_be_reexecuted": false,
    "execution_millis": 7,
    "execution_start": 1616437457887,
    "source_hash": "5d8e75f9",
    "tags": []
   },
   "outputs": [],
   "source": [
    "model.reactions.get_by_id('TYRTA')"
   ]
  },
  {
   "cell_type": "code",
   "execution_count": null,
   "metadata": {
    "cell_id": "00002-fbfad12a-fb5c-486b-87b6-2594700760bb",
    "deepnote_cell_type": "code",
    "deepnote_to_be_reexecuted": false,
    "execution_millis": 1,
    "execution_start": 1616437457907,
    "source_hash": "34cd9aaa",
    "tags": []
   },
   "outputs": [],
   "source": [
    "model.metabolites[:3]"
   ]
  },
  {
   "cell_type": "markdown",
   "metadata": {},
   "source": [
    "### FBA\n",
    "Optimize the model using flux balance analysis:"
   ]
  },
  {
   "cell_type": "code",
   "execution_count": null,
   "metadata": {
    "cell_id": "00003-21b890a3-adde-400d-a918-f51b1d5fc900",
    "deepnote_cell_type": "code",
    "deepnote_to_be_reexecuted": false,
    "execution_millis": 0,
    "execution_start": 1616437581918,
    "is_code_hidden": false,
    "source_hash": "51084503",
    "tags": []
   },
   "outputs": [],
   "source": [
    "solution = model.optimize()\n",
    "solution"
   ]
  },
  {
   "cell_type": "markdown",
   "metadata": {},
   "source": [
    "### Model Summary"
   ]
  },
  {
   "cell_type": "code",
   "execution_count": null,
   "metadata": {
    "cell_id": "00004-e374a99f-a3e1-405e-8b23-1b2da57bf17d",
    "deepnote_cell_type": "code",
    "deepnote_to_be_reexecuted": false,
    "execution_millis": 102,
    "execution_start": 1616437563217,
    "source_hash": "4e6a3b95",
    "tags": []
   },
   "outputs": [],
   "source": [
    "model.summary()"
   ]
  },
  {
   "cell_type": "markdown",
   "metadata": {
    "cell_id": "00009-41e11d84-d084-4cd1-b47d-42f0916340e0",
    "deepnote_cell_type": "code",
    "deepnote_to_be_reexecuted": false,
    "execution_millis": 73,
    "execution_start": 1616439141336,
    "source_hash": "c2cd28c9",
    "tags": []
   },
   "source": [
    "### Visualizing flux distribution"
   ]
  },
  {
   "cell_type": "code",
   "execution_count": null,
   "metadata": {
    "cell_id": "00009-799e0a0a-6971-4fb9-a628-1bb10ad23860",
    "deepnote_cell_type": "code",
    "deepnote_to_be_reexecuted": false,
    "execution_millis": 1017,
    "execution_start": 1616447952893,
    "source_hash": "2bae5d36",
    "tags": []
   },
   "outputs": [],
   "source": [
    "fig, ax = plt.subplots(1,1, figsize = (5, 5))\n",
    "ax.hist(solution.fluxes.sort_values(), bins=30)\n",
    "ax.set_yscale('log')\n",
    "ax.set_xlabel('Flux [1/hr]', fontsize = 12)\n",
    "ax.set_ylabel('# Reactions (log-scale)', fontsize = 12)\n",
    "ax.set_title('Histogram of reaction fluxes\\nin optimized cyanobacteria network', fontsize = 12)\n",
    "fig.savefig('figures/CyanoFluxDistribution.jpg')"
   ]
  },
  {
   "cell_type": "markdown",
   "metadata": {},
   "source": [
    "### Visualizing network graph"
   ]
  },
  {
   "cell_type": "code",
   "execution_count": null,
   "metadata": {
    "cell_id": "00011-44581b0f-677b-49aa-9b6a-a2e29fbac59a",
    "deepnote_cell_type": "code",
    "deepnote_to_be_reexecuted": false,
    "execution_millis": 774,
    "execution_start": 1616448058620,
    "source_hash": "a6319f13",
    "tags": []
   },
   "outputs": [],
   "source": [
    "g = nx.Graph()\n",
    "\n",
    "for reaction in model.reactions:\n",
    "    for m1 in reaction.reactants:\n",
    "        for m2 in reaction.products:\n",
    "            if not m1 in g.nodes:\n",
    "                g.add_node(m1.name)\n",
    "            if not m1 in g.nodes:\n",
    "                g.add_node(m2.name)\n",
    "            if reaction.upper_bound > 0:\n",
    "                g.add_edge(m1.name, m2.name)\n",
    "            if reaction.lower_bound < 0:\n",
    "                g.add_edge(m2.name, m1.name)\n",
    "\n",
    "plt.figure(figsize=(8,8))\n",
    "nx.draw(g, pos=nx.drawing.layout.circular_layout(g),node_size = 1, width = .1)\n",
    "plt.title('Cyanobacteria metabolic network', fontsize = 20)\n",
    "plt.savefig('figures/CyanoNetwork.jpg')"
   ]
  },
  {
   "cell_type": "code",
   "execution_count": null,
   "metadata": {},
   "outputs": [],
   "source": []
  }
 ],
 "metadata": {
  "deepnote": {},
  "deepnote_execution_queue": [],
  "deepnote_notebook_id": "aed8e5a3-fb12-46ec-966a-d458d53406bb",
  "kernelspec": {
   "display_name": "Python 3",
   "language": "python",
   "name": "python3"
  },
  "language_info": {
   "codemirror_mode": {
    "name": "ipython",
    "version": 3
   },
   "file_extension": ".py",
   "mimetype": "text/x-python",
   "name": "python",
   "nbconvert_exporter": "python",
   "pygments_lexer": "ipython3",
   "version": "3.7.10"
  }
 },
 "nbformat": 4,
 "nbformat_minor": 2
}
